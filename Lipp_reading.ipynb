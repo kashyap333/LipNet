{
 "cells": [
  {
   "cell_type": "code",
   "execution_count": 2,
   "metadata": {},
   "outputs": [],
   "source": [
    "import os\n",
    "import cv2\n",
    "import torch \n",
    "import numpy as np\n",
    "import pandas as pd\n",
    "from typing import List\n",
    "from matplotlib import pyplot as plt\n",
    "import imageio\n",
    "import gdown\n",
    "from torchvision import transforms\n",
    "from PIL import Image\n",
    "from torchnlp.encoders import LabelEncoder\n",
    "import tensorflow as tf\n",
    "from torch.utils.data import DataLoader, Dataset\n",
    "from pathlib import Path\n",
    "import glob\n",
    "from torch import nn\n",
    "from torch.nn.utils.rnn import pad_sequence\n",
    "from torch.nn.functional import pad"
   ]
  },
  {
   "cell_type": "code",
   "execution_count": 3,
   "metadata": {},
   "outputs": [],
   "source": [
    "device = ('cuda' if torch.cuda.is_available() else 'cpu')"
   ]
  },
  {
   "cell_type": "code",
   "execution_count": 4,
   "metadata": {},
   "outputs": [],
   "source": [
    "videos = glob.glob('data/s1/*.mpg')\n",
    "alignment = glob.glob('data/alignments/s1/*.align')\n",
    "video_names = []\n",
    "alignment_names = []\n",
    "for i in videos:\n",
    "    i = i.replace(\"\\\\\", \"/\")\n",
    "    video_names.append(i)\n",
    "for x in alignment:\n",
    "    x = x.replace(\"mpg\", \"align\")\n",
    "    x = x.replace(\"\\\\\", \"/\")\n",
    "    alignment_names.append(x)\n",
    "    \n",
    "\n",
    "data = {'video_name': video_names, 'alignment_names': alignment_names}\n",
    "\n",
    "data = pd.DataFrame(data)"
   ]
  },
  {
   "cell_type": "code",
   "execution_count": 5,
   "metadata": {},
   "outputs": [],
   "source": [
    "def load_video(path:str): \n",
    "\n",
    "    cap = cv2.VideoCapture(path)\n",
    "    frames = []\n",
    "    for _ in range(int(cap.get(cv2.CAP_PROP_FRAME_COUNT))): \n",
    "        ret, frame = cap.read()\n",
    "        frame = cv2.cvtColor(frame, cv2.COLOR_BGR2GRAY)\n",
    "        frame = frame[ :, :, None]\n",
    "        frame = frame[190:236,80:220,:]\n",
    "        #frame = torch.tensor(frame, dtype=torch.float32)\n",
    "        #frame = frame.permute(2,0,1)\n",
    "        frames.append(frame)\n",
    "        \n",
    "    cap.release()\n",
    "    frames = torch.tensor(frames, dtype=torch.float32)/255\n",
    "    frames = frames.permute(3,0,1,2)\n",
    "    #frames = frames[:,:,:,:]\n",
    "    return frames\n"
   ]
  },
  {
   "cell_type": "code",
   "execution_count": 6,
   "metadata": {},
   "outputs": [
    {
     "name": "stderr",
     "output_type": "stream",
     "text": [
      "C:\\Users\\KASHYAP\\AppData\\Local\\Temp\\ipykernel_10316\\3827501606.py:15: UserWarning: Creating a tensor from a list of numpy.ndarrays is extremely slow. Please consider converting the list to a single numpy.ndarray with numpy.array() before converting to a tensor. (Triggered internally at C:\\cb\\pytorch_1000000000000\\work\\torch\\csrc\\utils\\tensor_new.cpp:233.)\n",
      "  frames = torch.tensor(frames, dtype=torch.float32)/255\n"
     ]
    },
    {
     "data": {
      "text/plain": [
       "<matplotlib.image.AxesImage at 0x1ccd9e9b850>"
      ]
     },
     "execution_count": 6,
     "metadata": {},
     "output_type": "execute_result"
    },
    {
     "data": {
      "image/png": "[encoded data removed]",
      "text/plain": [
       "<Figure size 640x480 with 1 Axes>"
      ]
     },
     "metadata": {},
     "output_type": "display_data"
    }
   ],
   "source": [
    "frames = load_video('data/s1/bbaf2n.mpg')\n",
    "img = frames.permute(1,0,2,3)\n",
    "plt.imshow(img[1].permute(1,2,0))"
   ]
  },
  {
   "cell_type": "code",
   "execution_count": 7,
   "metadata": {},
   "outputs": [
    {
     "data": {
      "text/plain": [
       "39"
      ]
     },
     "execution_count": 7,
     "metadata": {},
     "output_type": "execute_result"
    }
   ],
   "source": [
    "char = [x for x in \"abcdefghijklmnopqrstuvwxyz'?!123456789 \"]\n",
    "encoder = LabelEncoder(char, reserved_labels=['unknown'], unknown_index=0)\n",
    "encoder.batch_encode(['f', 't']), encoder.batch_decode(torch.tensor([5, 6, 9]))\n",
    "len(char)"
   ]
  },
  {
   "cell_type": "code",
   "execution_count": 8,
   "metadata": {},
   "outputs": [],
   "source": [
    "def load_alignments(path:str) -> List[str]: \n",
    "    with open(path, 'r') as f: \n",
    "        lines = f.readlines() \n",
    "    tokens = []\n",
    "    for line in lines:\n",
    "        line = line.split()\n",
    "        if line[2] != 'sil': \n",
    "            tokens = [*tokens, ' ', list(line[2])]\n",
    "    flat_list = [item for sublist in tokens for item in sublist]\n",
    "    \n",
    "    encoded = encoder.batch_encode(flat_list)[1:]\n",
    "    return  torch.nn.ConstantPad1d((0, 30 - encoded.shape[0]), 0)(encoded)"
   ]
  },
  {
   "cell_type": "code",
   "execution_count": 9,
   "metadata": {},
   "outputs": [
    {
     "data": {
      "text/plain": [
       "tensor([ 2,  9, 14, 39,  2, 12, 21,  5, 39,  1, 20, 39,  6, 39, 20, 23, 15, 39,\n",
       "        14, 15, 23,  0,  0,  0,  0,  0,  0,  0,  0,  0])"
      ]
     },
     "execution_count": 9,
     "metadata": {},
     "output_type": "execute_result"
    }
   ],
   "source": [
    "load_alignments(path='data/alignments/s1/bbaf2n.align')\n"
   ]
  },
  {
   "cell_type": "code",
   "execution_count": 10,
   "metadata": {},
   "outputs": [],
   "source": [
    "def load_data(video_path:str, alignment_path:str):\n",
    "\n",
    "    frames = load_video(video_path)\n",
    "    alignments = load_alignments(alignment_path)\n",
    "\n",
    "\n",
    "    return frames, alignments"
   ]
  },
  {
   "cell_type": "code",
   "execution_count": 11,
   "metadata": {},
   "outputs": [
    {
     "data": {
      "text/plain": [
       "(torch.Size([1, 75, 46, 140]),\n",
       " tensor([ 2,  9, 14, 39,  2, 12, 21,  5, 39,  1, 20, 39,  6, 39, 20, 23, 15, 39,\n",
       "         14, 15, 23,  0,  0,  0,  0,  0,  0,  0,  0,  0]))"
      ]
     },
     "execution_count": 11,
     "metadata": {},
     "output_type": "execute_result"
    }
   ],
   "source": [
    "frames, alignments = load_data(data.iloc[0,0], data.iloc[0,1])\n",
    "frames.shape, alignments"
   ]
  },
  {
   "cell_type": "code",
   "execution_count": 12,
   "metadata": {},
   "outputs": [
    {
     "name": "stdout",
     "output_type": "stream",
     "text": [
      "bin blue at f two nowunknownunknownunknownunknownunknownunknownunknownunknownunknown\n"
     ]
    },
    {
     "data": {
      "text/plain": [
       "(<matplotlib.image.AxesImage at 0x1ccd9fbe280>,\n",
       " torch.Size([1, 75, 46, 140]),\n",
       " None)"
      ]
     },
     "execution_count": 12,
     "metadata": {},
     "output_type": "execute_result"
    },
    {
     "data": {
      "image/png": "[encoded data removed]",
      "text/plain": [
       "<Figure size 640x480 with 1 Axes>"
      ]
     },
     "metadata": {},
     "output_type": "display_data"
    }
   ],
   "source": [
    "plt.imshow((frames.permute(1,2,3,0))[1]), frames.shape, print(''.join(encoder.batch_decode(alignments)))   "
   ]
  },
  {
   "cell_type": "code",
   "execution_count": 13,
   "metadata": {},
   "outputs": [],
   "source": [
    "class custom_dataset(Dataset):\n",
    "    def __init__(self, data) -> None:\n",
    "        self.data = data\n",
    "\n",
    "    def __len__(self):\n",
    "        return len(self.data)\n",
    "    \n",
    "    def __getitem__(self, idx):\n",
    "        video_path = self.data.iloc[idx, 0]\n",
    "        alignment_path = self.data.iloc[idx, 1]\n",
    "        frames, alignments = load_data(video_path,alignment_path)\n",
    "        #frames = frames[:,75,:,:]\n",
    "        #packed_seq_batch = torch.nn.utils.rnn.pack_padded_sequence(alignments, lengths=[40], batch_first=True)\n",
    "\n",
    "        return frames, alignments\n",
    "        "
   ]
  },
  {
   "cell_type": "code",
   "execution_count": 14,
   "metadata": {},
   "outputs": [],
   "source": [
    "train_data = custom_dataset(data)\n",
    "data_loaded = DataLoader(train_data, batch_size=1,shuffle=True)"
   ]
  },
  {
   "cell_type": "code",
   "execution_count": 15,
   "metadata": {},
   "outputs": [
    {
     "data": {
      "text/plain": [
       "(torch.Size([1, 1, 75, 46, 140]), torch.Size([1, 30]))"
      ]
     },
     "execution_count": 15,
     "metadata": {},
     "output_type": "execute_result"
    }
   ],
   "source": [
    "frame, alignment = next(iter(data_loaded))\n",
    "frame.shape, alignment.shape"
   ]
  },
  {
   "cell_type": "code",
   "execution_count": 16,
   "metadata": {},
   "outputs": [],
   "source": [
    "class TimeDistributed(nn.Module):\n",
    "    def __init__(self, module, batch_first=True):\n",
    "        super(TimeDistributed, self).__init__()\n",
    "        self.module = module\n",
    "        self.batch_first = batch_first\n",
    "\n",
    "    def forward(self, x):\n",
    "\n",
    "        if len(x.size()) <= 2:\n",
    "            return self.module(x)\n",
    "\n",
    "        # Squash samples and timesteps into a single axis\n",
    "        x_reshape = x.contiguous().view(-1, x.size(-1))  # (samples * timesteps, input_size)\n",
    "\n",
    "        y = self.module(x_reshape)\n",
    "\n",
    "        # We have to reshape Y\n",
    "        if self.batch_first:\n",
    "            y = y.contiguous().view(x.size(0),-1,y.size(-1))  # (samples, timesteps, output_size)\n",
    "        else:\n",
    "            y = y.view(-1, x.size(1), y.size(-1))  # (timesteps, samples, output_size)\n",
    "\n",
    "        return y"
   ]
  },
  {
   "cell_type": "code",
   "execution_count": 17,
   "metadata": {},
   "outputs": [
    {
     "name": "stdout",
     "output_type": "stream",
     "text": [
      "LipNet(\n",
      "  (conv3d_layer1): Sequential(\n",
      "    (0): Conv3d(1, 128, kernel_size=(1, 1, 1), stride=(1, 1, 1))\n",
      "    (1): ReLU()\n",
      "    (2): MaxPool3d(kernel_size=(1, 2, 2), stride=(1, 2, 2), padding=0, dilation=1, ceil_mode=False)\n",
      "  )\n",
      "  (conv3d_layer2): Sequential(\n",
      "    (0): Conv3d(128, 256, kernel_size=(1, 1, 1), stride=(1, 1, 1))\n",
      "    (1): ReLU()\n",
      "    (2): MaxPool3d(kernel_size=(1, 2, 2), stride=(1, 2, 2), padding=0, dilation=1, ceil_mode=False)\n",
      "  )\n",
      "  (conv3d_layer3): Sequential(\n",
      "    (0): Conv3d(256, 75, kernel_size=(1, 1, 1), stride=(1, 1, 1))\n",
      "    (1): ReLU()\n",
      "    (2): MaxPool3d(kernel_size=(1, 2, 2), stride=(1, 2, 2), padding=0, dilation=1, ceil_mode=False)\n",
      "  )\n",
      "  (TimeDistributed): TimeDistributed(\n",
      "    (module): Flatten(start_dim=1, end_dim=-1)\n",
      "  )\n",
      "  (LSTM1): LSTM(6375, 128, num_layers=2, batch_first=True, dropout=0.5, bidirectional=True)\n",
      "  (Linear): Linear(in_features=256, out_features=40, bias=True)\n",
      "  (softmax): Softmax(dim=1)\n",
      ")\n"
     ]
    }
   ],
   "source": [
    "class LipNet(nn.Module):\n",
    "\n",
    "    def __init__(self):\n",
    "        super().__init__()\n",
    "\n",
    "        self.conv3d_layer1 = nn.Sequential(\n",
    "            nn.Conv3d(in_channels=1, out_channels=128, kernel_size=1),\n",
    "            nn.ReLU(),\n",
    "            nn.MaxPool3d((1,2,2))\n",
    "        )\n",
    "        self.conv3d_layer2 = nn.Sequential(\n",
    "            nn.Conv3d(in_channels=128, out_channels=256, kernel_size=1),\n",
    "            nn.ReLU(),\n",
    "            nn.MaxPool3d((1,2,2))\n",
    "        )\n",
    "        self.conv3d_layer3 = nn.Sequential(\n",
    "            nn.Conv3d(in_channels=256, out_channels=75, kernel_size=1),\n",
    "            nn.ReLU(),\n",
    "            nn.MaxPool3d((1,2,2))\n",
    "        )\n",
    "        self.TimeDistributed  = TimeDistributed(nn.Flatten())\n",
    "        self.LSTM1 = nn.LSTM(input_size = 6375, hidden_size = 128,num_layers=2,bidirectional=True, dropout=0.5, batch_first=True) \n",
    "        self.Linear = nn.Linear(in_features=256, out_features=40)\n",
    "        self.softmax = nn.Softmax(dim=1)\n",
    "        \n",
    "    def forward(self, x):\n",
    "\n",
    "        x = self.conv3d_layer3(self.conv3d_layer2(self.conv3d_layer1(x))).permute(0,1,3,4,2)\n",
    "        x = self.TimeDistributed(x).permute(0,2,1)\n",
    "        x, (i, j) = self.LSTM1(x)\n",
    "        x = self.softmax(self.Linear(x))\n",
    "\n",
    "        return x\n",
    "        \n",
    "\n",
    "torch.manual_seed(42) \n",
    "model_0 = LipNet().to(device)\n",
    "print(model_0)"
   ]
  },
  {
   "cell_type": "code",
   "execution_count": 18,
   "metadata": {},
   "outputs": [
    {
     "data": {
      "text/plain": [
       "==========================================================================================\n",
       "Layer (type:depth-idx)                   Output Shape              Param #\n",
       "==========================================================================================\n",
       "LipNet                                   [1, 75, 40]               --\n",
       "├─Sequential: 1-1                        [1, 128, 75, 23, 70]      --\n",
       "│    └─Conv3d: 2-1                       [1, 128, 75, 46, 140]     256\n",
       "│    └─ReLU: 2-2                         [1, 128, 75, 46, 140]     --\n",
       "│    └─MaxPool3d: 2-3                    [1, 128, 75, 23, 70]      --\n",
       "├─Sequential: 1-2                        [1, 256, 75, 11, 35]      --\n",
       "│    └─Conv3d: 2-4                       [1, 256, 75, 23, 70]      33,024\n",
       "│    └─ReLU: 2-5                         [1, 256, 75, 23, 70]      --\n",
       "│    └─MaxPool3d: 2-6                    [1, 256, 75, 11, 35]      --\n",
       "├─Sequential: 1-3                        [1, 75, 75, 5, 17]        --\n",
       "│    └─Conv3d: 2-7                       [1, 75, 75, 11, 35]       19,275\n",
       "│    └─ReLU: 2-8                         [1, 75, 75, 11, 35]       --\n",
       "│    └─MaxPool3d: 2-9                    [1, 75, 75, 5, 17]        --\n",
       "├─TimeDistributed: 1-4                   [1, 6375, 75]             --\n",
       "│    └─Flatten: 2-10                     [6375, 75]                --\n",
       "├─LSTM: 1-5                              [1, 75, 256]              7,056,384\n",
       "├─Linear: 1-6                            [1, 75, 40]               10,280\n",
       "├─Softmax: 1-7                           [1, 75, 40]               --\n",
       "==========================================================================================\n",
       "Total params: 7,119,219\n",
       "Trainable params: 7,119,219\n",
       "Non-trainable params: 0\n",
       "Total mult-adds (G): 5.20\n",
       "==========================================================================================\n",
       "Input size (MB): 1.93\n",
       "Forward/backward pass size (MB): 759.39\n",
       "Params size (MB): 28.48\n",
       "Estimated Total Size (MB): 789.80\n",
       "=========================================================================================="
      ]
     },
     "execution_count": 18,
     "metadata": {},
     "output_type": "execute_result"
    }
   ],
   "source": [
    "try: \n",
    "    import torchinfo\n",
    "except:\n",
    "    !pip install torchinfo\n",
    "    import torchinfo\n",
    "    \n",
    "from torchinfo import summary\n",
    "summary(model_0, input_size=frame.shape)"
   ]
  },
  {
   "cell_type": "code",
   "execution_count": 19,
   "metadata": {},
   "outputs": [],
   "source": [
    "model_0.eval()\n",
    "with torch.inference_mode():\n",
    "    pred = model_0(frame.to(device)).to(device)"
   ]
  },
  {
   "cell_type": "code",
   "execution_count": 20,
   "metadata": {},
   "outputs": [
    {
     "data": {
      "text/plain": [
       "(torch.Size([1, 75, 40]), torch.Size([1, 30]))"
      ]
     },
     "execution_count": 20,
     "metadata": {},
     "output_type": "execute_result"
    }
   ],
   "source": [
    "pred.shape, alignment.shape#, encoder.batch_decode(torch.argmax(pred[0],dim=1))"
   ]
  },
  {
   "cell_type": "code",
   "execution_count": 21,
   "metadata": {},
   "outputs": [],
   "source": [
    "def CtcLoss(y, y_pred):\n",
    "    input_length = torch.full(size=(y.shape[0],), fill_value=1, dtype=torch.long)\n",
    "    target_length = torch.full(size=(y_pred.shape[0],), fill_value=1, dtype=torch.long)\n",
    "    ctc_loss = nn.CTCLoss()\n",
    "    loss = ctc_loss(y_pred.permute(1,0,2), y, input_length, target_length)\n",
    "    return loss"
   ]
  },
  {
   "cell_type": "code",
   "execution_count": 22,
   "metadata": {},
   "outputs": [],
   "source": [
    "def train_step(model: torch.nn.Module, \n",
    "               dataloader: torch.utils.data.DataLoader, \n",
    "               loss_fn: torch.nn.Module, \n",
    "               optimizer: torch.optim.Optimizer):\n",
    "    # Put model in train mode\n",
    "    model.train()\n",
    "    \n",
    "    # Setup train loss and train accuracy values\n",
    "    train_loss = 0\n",
    "    \n",
    "    # Loop through data loader data batches\n",
    "    for batch, (X, y) in enumerate(dataloader):\n",
    "        # Send data to target device\n",
    "        X, y = X.to(device), y.to(device)\n",
    "\n",
    "        # 1. Forward pass\n",
    "        y_pred = model(X)\n",
    "\n",
    "        # 2. Calculate  and accumulate loss\n",
    "        loss = loss_fn(y, y_pred)\n",
    "        #train_loss += loss.item() \n",
    "\n",
    "        # 3. Optimizer zero grad\n",
    "        optimizer.zero_grad()\n",
    "\n",
    "        # 4. Loss backward\n",
    "        loss.backward()\n",
    "\n",
    "        # 5. Optimizer step\n",
    "        optimizer.step()\n",
    "\n",
    "    \n",
    "        \n",
    "    train_loss = loss / len(dataloader)\n",
    "    \n",
    "    return train_loss, y, y_pred\n",
    "        "
   ]
  },
  {
   "cell_type": "code",
   "execution_count": 30,
   "metadata": {},
   "outputs": [],
   "source": [
    "def test_step(model: torch.nn.Module, \n",
    "              dataloader: torch.utils.data.DataLoader, \n",
    "              loss_fn: torch.nn.Module):\n",
    "    # Put model in eval mode\n",
    "    model.eval() \n",
    "    \n",
    "    # Setup test loss and test accuracy values\n",
    "    test_loss = 0\n",
    "    \n",
    "    # Turn on inference context manager\n",
    "    with torch.inference_mode():\n",
    "        # Loop through DataLoader batches\n",
    "        for batch, (X, y) in enumerate(dataloader):\n",
    "            # Send data to target device\n",
    "            X, y = X.to(device), y.to(device)\n",
    "            model = model.to(device)\n",
    "    \n",
    "            # 1. Forward pass\n",
    "            test_pred_logits = model(X)\n",
    "\n",
    "            # 2. Calculate and accumulate loss\n",
    "            loss = loss_fn(y, test_pred_logits)\n",
    "            \n",
    "            \n",
    "            \n",
    "            \n",
    "            \n",
    "    # Adjust metrics to get average loss and accuracy per batch \n",
    "    test_loss = loss / len(dataloader)\n",
    "    \n",
    "    return test_loss, y, test_pred_logits"
   ]
  },
  {
   "cell_type": "code",
   "execution_count": 27,
   "metadata": {},
   "outputs": [],
   "source": [
    "from tqdm.auto import tqdm\n",
    "\n",
    "# 1. Take in various parameters required for training and test steps\n",
    "def train(model: torch.nn.Module, \n",
    "          train_dataloader: torch.utils.data.DataLoader, \n",
    "          test_dataloader: torch.utils.data.DataLoader, \n",
    "          optimizer: torch.optim.Optimizer,\n",
    "          loss_fn: torch.nn.Module = nn.CrossEntropyLoss(),\n",
    "          epochs: int = 100):\n",
    "    \n",
    "    # 2. Create empty results dictionary\n",
    "    results = {\"train_loss\": [],\n",
    "        \"test_loss\": []\n",
    "    }\n",
    "    \n",
    "    # 3. Loop through training and testing steps for a number of epochs\n",
    "    for epoch in tqdm(range(epochs)):\n",
    "        train_loss, y, y_pred = train_step(model=model,\n",
    "                                           dataloader=train_dataloader,\n",
    "                                           loss_fn=loss_fn,\n",
    "                                          optimizer=optimizer)\n",
    "        \n",
    "\n",
    "\n",
    "\n",
    "        '''if epoch % 5 == 0:\n",
    "            print(' '.join(encoder.batch_decode(y[0])), end='\\n')\n",
    "        #print(torch.argmax(y_pred[0],dim=1))\n",
    "            print(''.join(encoder.batch_decode(torch.argmax(y_pred[0],dim=1))), end='\\n')\n",
    "        \n",
    "      \n",
    "        test_loss, y, test_pred_logits = test_step(model=model,\n",
    "            dataloader=test_dataloader,\n",
    "            loss_fn=loss_fn)'''\n",
    "        \n",
    "        # 4. Print out what's happening\n",
    "        print(\n",
    "            f\"Epoch: {epoch+1}\\n\"\n",
    "            f\"train_loss: {train_loss} | \" \n",
    "        )\n",
    "\n",
    "        # 5. Update results dictionary\n",
    "        results[\"train_loss\"].append(train_loss)\n",
    "        #results[\"test_loss\"].append(test_loss)\n",
    "\n",
    "    # 6. Return the filled results at the end of the epochs\n",
    "\n",
    "    return results"
   ]
  },
  {
   "cell_type": "code",
   "execution_count": 28,
   "metadata": {},
   "outputs": [],
   "source": [
    "def scheduler(epoch, lr):\n",
    "    if epoch < 30:\n",
    "        return lr\n",
    "    else:\n",
    "        return lr * np.exp(-0.1)"
   ]
  },
  {
   "cell_type": "code",
   "execution_count": 29,
   "metadata": {},
   "outputs": [
    {
     "name": "stderr",
     "output_type": "stream",
     "text": [
      "  1%|          | 1/100 [22:55<37:49:38, 1375.54s/it]"
     ]
    },
    {
     "name": "stdout",
     "output_type": "stream",
     "text": [
      "Epoch: 1\n",
      "train_loss: -2.196228631899319e-13 | \n"
     ]
    },
    {
     "name": "stderr",
     "output_type": "stream",
     "text": [
      "  2%|▏         | 2/100 [45:42<37:18:25, 1370.47s/it]"
     ]
    },
    {
     "name": "stdout",
     "output_type": "stream",
     "text": [
      "Epoch: 2\n",
      "train_loss: -2.8925836335555455e-14 | \n"
     ]
    },
    {
     "name": "stderr",
     "output_type": "stream",
     "text": [
      "  2%|▏         | 2/100 [1:06:31<54:19:32, 1995.64s/it]\n"
     ]
    },
    {
     "ename": "KeyboardInterrupt",
     "evalue": "",
     "output_type": "error",
     "traceback": [
      "\u001b[1;31m---------------------------------------------------------------------------\u001b[0m",
      "\u001b[1;31mKeyboardInterrupt\u001b[0m                         Traceback (most recent call last)",
      "Cell \u001b[1;32mIn[29], line 18\u001b[0m\n\u001b[0;32m     16\u001b[0m \u001b[39mfrom\u001b[39;00m \u001b[39mtimeit\u001b[39;00m \u001b[39mimport\u001b[39;00m default_timer \u001b[39mas\u001b[39;00m timer \n\u001b[0;32m     17\u001b[0m start_time \u001b[39m=\u001b[39m timer()\n\u001b[1;32m---> 18\u001b[0m model_0_results \u001b[39m=\u001b[39m train(model\u001b[39m=\u001b[39;49mmodel_0, \n\u001b[0;32m     19\u001b[0m                         train_dataloader\u001b[39m=\u001b[39;49mdata_loaded,\n\u001b[0;32m     20\u001b[0m                         test_dataloader\u001b[39m=\u001b[39;49mdata_loaded,\n\u001b[0;32m     21\u001b[0m                         optimizer\u001b[39m=\u001b[39;49moptimizer,\n\u001b[0;32m     22\u001b[0m                         loss_fn\u001b[39m=\u001b[39;49mloss_fn, \n\u001b[0;32m     23\u001b[0m                         epochs\u001b[39m=\u001b[39;49mepochs)\n\u001b[0;32m     25\u001b[0m \u001b[39m# End the timer and print out how long it took\u001b[39;00m\n\u001b[0;32m     26\u001b[0m end_time \u001b[39m=\u001b[39m timer()\n",
      "Cell \u001b[1;32mIn[27], line 18\u001b[0m, in \u001b[0;36mtrain\u001b[1;34m(model, train_dataloader, test_dataloader, optimizer, loss_fn, epochs)\u001b[0m\n\u001b[0;32m     16\u001b[0m \u001b[39m# 3. Loop through training and testing steps for a number of epochs\u001b[39;00m\n\u001b[0;32m     17\u001b[0m \u001b[39mfor\u001b[39;00m epoch \u001b[39min\u001b[39;00m tqdm(\u001b[39mrange\u001b[39m(epochs)):\n\u001b[1;32m---> 18\u001b[0m     train_loss, y, y_pred \u001b[39m=\u001b[39m train_step(model\u001b[39m=\u001b[39;49mmodel,\n\u001b[0;32m     19\u001b[0m                                        dataloader\u001b[39m=\u001b[39;49mtrain_dataloader,\n\u001b[0;32m     20\u001b[0m                                        loss_fn\u001b[39m=\u001b[39;49mloss_fn,\n\u001b[0;32m     21\u001b[0m                                       optimizer\u001b[39m=\u001b[39;49moptimizer)\n\u001b[0;32m     26\u001b[0m     \u001b[39m'''if epoch % 5 == 0:\u001b[39;00m\n\u001b[0;32m     27\u001b[0m \u001b[39m        print(' '.join(encoder.batch_decode(y[0])), end='\\n')\u001b[39;00m\n\u001b[0;32m     28\u001b[0m \u001b[39m    #print(torch.argmax(y_pred[0],dim=1))\u001b[39;00m\n\u001b[1;32m   (...)\u001b[0m\n\u001b[0;32m     33\u001b[0m \u001b[39m        dataloader=test_dataloader,\u001b[39;00m\n\u001b[0;32m     34\u001b[0m \u001b[39m        loss_fn=loss_fn)'''\u001b[39;00m\n\u001b[0;32m     36\u001b[0m     \u001b[39m# 4. Print out what's happening\u001b[39;00m\n",
      "Cell \u001b[1;32mIn[22], line 12\u001b[0m, in \u001b[0;36mtrain_step\u001b[1;34m(model, dataloader, loss_fn, optimizer)\u001b[0m\n\u001b[0;32m      9\u001b[0m train_loss \u001b[39m=\u001b[39m \u001b[39m0\u001b[39m\n\u001b[0;32m     11\u001b[0m \u001b[39m# Loop through data loader data batches\u001b[39;00m\n\u001b[1;32m---> 12\u001b[0m \u001b[39mfor\u001b[39;00m batch, (X, y) \u001b[39min\u001b[39;00m \u001b[39menumerate\u001b[39m(dataloader):\n\u001b[0;32m     13\u001b[0m     \u001b[39m# Send data to target device\u001b[39;00m\n\u001b[0;32m     14\u001b[0m     X, y \u001b[39m=\u001b[39m X\u001b[39m.\u001b[39mto(device), y\u001b[39m.\u001b[39mto(device)\n\u001b[0;32m     16\u001b[0m     \u001b[39m# 1. Forward pass\u001b[39;00m\n",
      "File \u001b[1;32mc:\\Users\\KASHYAP\\miniconda3\\lib\\site-packages\\torch\\utils\\data\\dataloader.py:628\u001b[0m, in \u001b[0;36m_BaseDataLoaderIter.__next__\u001b[1;34m(self)\u001b[0m\n\u001b[0;32m    625\u001b[0m \u001b[39mif\u001b[39;00m \u001b[39mself\u001b[39m\u001b[39m.\u001b[39m_sampler_iter \u001b[39mis\u001b[39;00m \u001b[39mNone\u001b[39;00m:\n\u001b[0;32m    626\u001b[0m     \u001b[39m# TODO(https://github.com/pytorch/pytorch/issues/76750)\u001b[39;00m\n\u001b[0;32m    627\u001b[0m     \u001b[39mself\u001b[39m\u001b[39m.\u001b[39m_reset()  \u001b[39m# type: ignore[call-arg]\u001b[39;00m\n\u001b[1;32m--> 628\u001b[0m data \u001b[39m=\u001b[39m \u001b[39mself\u001b[39;49m\u001b[39m.\u001b[39;49m_next_data()\n\u001b[0;32m    629\u001b[0m \u001b[39mself\u001b[39m\u001b[39m.\u001b[39m_num_yielded \u001b[39m+\u001b[39m\u001b[39m=\u001b[39m \u001b[39m1\u001b[39m\n\u001b[0;32m    630\u001b[0m \u001b[39mif\u001b[39;00m \u001b[39mself\u001b[39m\u001b[39m.\u001b[39m_dataset_kind \u001b[39m==\u001b[39m _DatasetKind\u001b[39m.\u001b[39mIterable \u001b[39mand\u001b[39;00m \\\n\u001b[0;32m    631\u001b[0m         \u001b[39mself\u001b[39m\u001b[39m.\u001b[39m_IterableDataset_len_called \u001b[39mis\u001b[39;00m \u001b[39mnot\u001b[39;00m \u001b[39mNone\u001b[39;00m \u001b[39mand\u001b[39;00m \\\n\u001b[0;32m    632\u001b[0m         \u001b[39mself\u001b[39m\u001b[39m.\u001b[39m_num_yielded \u001b[39m>\u001b[39m \u001b[39mself\u001b[39m\u001b[39m.\u001b[39m_IterableDataset_len_called:\n",
      "File \u001b[1;32mc:\\Users\\KASHYAP\\miniconda3\\lib\\site-packages\\torch\\utils\\data\\dataloader.py:671\u001b[0m, in \u001b[0;36m_SingleProcessDataLoaderIter._next_data\u001b[1;34m(self)\u001b[0m\n\u001b[0;32m    669\u001b[0m \u001b[39mdef\u001b[39;00m \u001b[39m_next_data\u001b[39m(\u001b[39mself\u001b[39m):\n\u001b[0;32m    670\u001b[0m     index \u001b[39m=\u001b[39m \u001b[39mself\u001b[39m\u001b[39m.\u001b[39m_next_index()  \u001b[39m# may raise StopIteration\u001b[39;00m\n\u001b[1;32m--> 671\u001b[0m     data \u001b[39m=\u001b[39m \u001b[39mself\u001b[39;49m\u001b[39m.\u001b[39;49m_dataset_fetcher\u001b[39m.\u001b[39;49mfetch(index)  \u001b[39m# may raise StopIteration\u001b[39;00m\n\u001b[0;32m    672\u001b[0m     \u001b[39mif\u001b[39;00m \u001b[39mself\u001b[39m\u001b[39m.\u001b[39m_pin_memory:\n\u001b[0;32m    673\u001b[0m         data \u001b[39m=\u001b[39m _utils\u001b[39m.\u001b[39mpin_memory\u001b[39m.\u001b[39mpin_memory(data, \u001b[39mself\u001b[39m\u001b[39m.\u001b[39m_pin_memory_device)\n",
      "File \u001b[1;32mc:\\Users\\KASHYAP\\miniconda3\\lib\\site-packages\\torch\\utils\\data\\_utils\\fetch.py:58\u001b[0m, in \u001b[0;36m_MapDatasetFetcher.fetch\u001b[1;34m(self, possibly_batched_index)\u001b[0m\n\u001b[0;32m     56\u001b[0m         data \u001b[39m=\u001b[39m \u001b[39mself\u001b[39m\u001b[39m.\u001b[39mdataset\u001b[39m.\u001b[39m__getitems__(possibly_batched_index)\n\u001b[0;32m     57\u001b[0m     \u001b[39melse\u001b[39;00m:\n\u001b[1;32m---> 58\u001b[0m         data \u001b[39m=\u001b[39m [\u001b[39mself\u001b[39m\u001b[39m.\u001b[39mdataset[idx] \u001b[39mfor\u001b[39;00m idx \u001b[39min\u001b[39;00m possibly_batched_index]\n\u001b[0;32m     59\u001b[0m \u001b[39melse\u001b[39;00m:\n\u001b[0;32m     60\u001b[0m     data \u001b[39m=\u001b[39m \u001b[39mself\u001b[39m\u001b[39m.\u001b[39mdataset[possibly_batched_index]\n",
      "File \u001b[1;32mc:\\Users\\KASHYAP\\miniconda3\\lib\\site-packages\\torch\\utils\\data\\_utils\\fetch.py:58\u001b[0m, in \u001b[0;36m<listcomp>\u001b[1;34m(.0)\u001b[0m\n\u001b[0;32m     56\u001b[0m         data \u001b[39m=\u001b[39m \u001b[39mself\u001b[39m\u001b[39m.\u001b[39mdataset\u001b[39m.\u001b[39m__getitems__(possibly_batched_index)\n\u001b[0;32m     57\u001b[0m     \u001b[39melse\u001b[39;00m:\n\u001b[1;32m---> 58\u001b[0m         data \u001b[39m=\u001b[39m [\u001b[39mself\u001b[39;49m\u001b[39m.\u001b[39;49mdataset[idx] \u001b[39mfor\u001b[39;00m idx \u001b[39min\u001b[39;00m possibly_batched_index]\n\u001b[0;32m     59\u001b[0m \u001b[39melse\u001b[39;00m:\n\u001b[0;32m     60\u001b[0m     data \u001b[39m=\u001b[39m \u001b[39mself\u001b[39m\u001b[39m.\u001b[39mdataset[possibly_batched_index]\n",
      "Cell \u001b[1;32mIn[13], line 11\u001b[0m, in \u001b[0;36mcustom_dataset.__getitem__\u001b[1;34m(self, idx)\u001b[0m\n\u001b[0;32m      9\u001b[0m video_path \u001b[39m=\u001b[39m \u001b[39mself\u001b[39m\u001b[39m.\u001b[39mdata\u001b[39m.\u001b[39miloc[idx, \u001b[39m0\u001b[39m]\n\u001b[0;32m     10\u001b[0m alignment_path \u001b[39m=\u001b[39m \u001b[39mself\u001b[39m\u001b[39m.\u001b[39mdata\u001b[39m.\u001b[39miloc[idx, \u001b[39m1\u001b[39m]\n\u001b[1;32m---> 11\u001b[0m frames, alignments \u001b[39m=\u001b[39m load_data(video_path,alignment_path)\n\u001b[0;32m     12\u001b[0m \u001b[39m#frames = frames[:,75,:,:]\u001b[39;00m\n\u001b[0;32m     13\u001b[0m \u001b[39m#packed_seq_batch = torch.nn.utils.rnn.pack_padded_sequence(alignments, lengths=[40], batch_first=True)\u001b[39;00m\n\u001b[0;32m     15\u001b[0m \u001b[39mreturn\u001b[39;00m frames, alignments\n",
      "Cell \u001b[1;32mIn[10], line 3\u001b[0m, in \u001b[0;36mload_data\u001b[1;34m(video_path, alignment_path)\u001b[0m\n\u001b[0;32m      1\u001b[0m \u001b[39mdef\u001b[39;00m \u001b[39mload_data\u001b[39m(video_path:\u001b[39mstr\u001b[39m, alignment_path:\u001b[39mstr\u001b[39m):\n\u001b[1;32m----> 3\u001b[0m     frames \u001b[39m=\u001b[39m load_video(video_path)\n\u001b[0;32m      4\u001b[0m     alignments \u001b[39m=\u001b[39m load_alignments(alignment_path)\n\u001b[0;32m      7\u001b[0m     \u001b[39mreturn\u001b[39;00m frames, alignments\n",
      "Cell \u001b[1;32mIn[5], line 15\u001b[0m, in \u001b[0;36mload_video\u001b[1;34m(path)\u001b[0m\n\u001b[0;32m     12\u001b[0m     frames\u001b[39m.\u001b[39mappend(frame)\n\u001b[0;32m     14\u001b[0m cap\u001b[39m.\u001b[39mrelease()\n\u001b[1;32m---> 15\u001b[0m frames \u001b[39m=\u001b[39m torch\u001b[39m.\u001b[39;49mtensor(frames, dtype\u001b[39m=\u001b[39;49mtorch\u001b[39m.\u001b[39;49mfloat32)\u001b[39m/\u001b[39m\u001b[39m255\u001b[39m\n\u001b[0;32m     16\u001b[0m frames \u001b[39m=\u001b[39m frames\u001b[39m.\u001b[39mpermute(\u001b[39m3\u001b[39m,\u001b[39m0\u001b[39m,\u001b[39m1\u001b[39m,\u001b[39m2\u001b[39m)\n\u001b[0;32m     17\u001b[0m \u001b[39m#frames = frames[:,:,:,:]\u001b[39;00m\n",
      "\u001b[1;31mKeyboardInterrupt\u001b[0m: "
     ]
    }
   ],
   "source": [
    "# Set random seeds\n",
    "torch.manual_seed(42) \n",
    "torch.cuda.manual_seed(42)\n",
    "\n",
    "# Set number of epochs\n",
    "epochs = 100\n",
    "\n",
    "# Recreate an instance of TinyVGG\n",
    "model = LipNet().to(device)\n",
    "\n",
    "# Setup loss function and optimizer\n",
    "loss_fn = CtcLoss\n",
    "optimizer = torch.optim.Adam(params=model.parameters(), lr=scheduler(epochs, 0.1))\n",
    "\n",
    "# Start the timer\n",
    "from timeit import default_timer as timer \n",
    "start_time = timer()\n",
    "model_0_results = train(model=model, \n",
    "                        train_dataloader=data_loaded,\n",
    "                        test_dataloader=data_loaded,\n",
    "                        optimizer=optimizer,\n",
    "                        loss_fn=loss_fn, \n",
    "                        epochs=epochs)\n",
    "\n",
    "# End the timer and print out how long it took\n",
    "end_time = timer()\n",
    "print(f\"Total training time: {end_time-start_time:.3f} seconds\")"
   ]
  },
  {
   "cell_type": "code",
   "execution_count": null,
   "metadata": {},
   "outputs": [],
   "source": []
  }
 ],
 "metadata": {
  "kernelspec": {
   "display_name": "base",
   "language": "python",
   "name": "python3"
  },
  "language_info": {
   "codemirror_mode": {
    "name": "ipython",
    "version": 3
   },
   "file_extension": ".py",
   "mimetype": "text/x-python",
   "name": "python",
   "nbconvert_exporter": "python",
   "pygments_lexer": "ipython3",
   "version": "3.9.12"
  },
  "orig_nbformat": 4,
  "vscode": {
   "interpreter": {
    "hash": "c96f2ec3738a51773022bf8f7e80086cfe715914fc58febcce26f3cc48554f72"
   }
  }
 },
 "nbformat": 4,
 "nbformat_minor": 2
}
